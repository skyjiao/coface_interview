{
 "cells": [
  {
   "cell_type": "markdown",
   "metadata": {},
   "source": [
    "# Coding In Python"
   ]
  },
  {
   "cell_type": "markdown",
   "metadata": {},
   "source": [
    "## Fibonacci\n",
    "\n",
    "Write a function that returns the $n$-th term of Fibonacci sequence defined by : $F_0 = 0, F_1 = 1, F_{n+1} = F_n + F_{n - 1}$ for $n \\geq 1$"
   ]
  },
  {
   "cell_type": "code",
   "execution_count": null,
   "metadata": {},
   "outputs": [],
   "source": [
    "def fibonacci(n):\n",
    "    # write code here"
   ]
  },
  {
   "cell_type": "code",
   "execution_count": null,
   "metadata": {},
   "outputs": [],
   "source": [
    "fibonacci(6) # Should return 8"
   ]
  },
  {
   "cell_type": "markdown",
   "metadata": {},
   "source": [
    "## Object oriented\n",
    "\n",
    "Write a class that keeps track of the name and age of a person"
   ]
  },
  {
   "cell_type": "code",
   "execution_count": null,
   "metadata": {},
   "outputs": [],
   "source": [
    "class person:\n",
    "    "
   ]
  },
  {
   "cell_type": "markdown",
   "metadata": {
    "ExecuteTime": {
     "end_time": "2020-12-11T14:06:46.804130Z",
     "start_time": "2020-12-11T14:06:46.794993Z"
    }
   },
   "source": [
    "## Bonus : Prime\n",
    "\n",
    "Write a function that returns a bool indicating if theinput integer $n$ is prime"
   ]
  },
  {
   "cell_type": "code",
   "execution_count": null,
   "metadata": {},
   "outputs": [],
   "source": [
    "def is_prime(n):\n",
    "    # write code here"
   ]
  },
  {
   "cell_type": "code",
   "execution_count": null,
   "metadata": {},
   "outputs": [],
   "source": [
    "is_prime(10) # should return false"
   ]
  },
  {
   "cell_type": "code",
   "execution_count": null,
   "metadata": {},
   "outputs": [],
   "source": [
    "is_prime(7) # should return True"
   ]
  },
  {
   "cell_type": "markdown",
   "metadata": {},
   "source": [
    "# Data \n",
    "\n",
    "In this part you will be using wine data to perform a classification task "
   ]
  },
  {
   "cell_type": "code",
   "execution_count": null,
   "metadata": {
    "ExecuteTime": {
     "end_time": "2020-12-11T15:58:43.301787Z",
     "start_time": "2020-12-11T15:58:42.636617Z"
    }
   },
   "outputs": [],
   "source": [
    "# Do not edit this cell\n",
    "import pandas as pd\n",
    "from sklearn.datasets import load_wine\n",
    "\n",
    "data = load_wine()\n",
    "\n",
    "df = pd.DataFrame(\n",
    "    data = data.data,\n",
    "    columns=data.feature_names,\n",
    ")\n",
    "\n",
    "df[\"CLASS\"] = data.target\n",
    "\n",
    "df[\"CLASS\"] = df[\"CLASS\"].map({0:\"A\", 1:\"B\", 2:\"C\"}) "
   ]
  },
  {
   "cell_type": "markdown",
   "metadata": {},
   "source": [
    "## Exploration"
   ]
  },
  {
   "cell_type": "markdown",
   "metadata": {},
   "source": [
    "Complete the missing code for the following:\n",
    "\n",
    "1) print the number of rows and columns in the dataframe\n",
    "\n",
    "2) show the first 10 lines of the dataframe\n"
   ]
  },
  {
   "cell_type": "code",
   "execution_count": null,
   "metadata": {
    "ExecuteTime": {
     "end_time": "2020-12-11T15:59:34.722497Z",
     "start_time": "2020-12-11T15:59:34.717224Z"
    }
   },
   "outputs": [],
   "source": [
    "# Write code below to print the number of rows and columns in the dataframe 'df'"
   ]
  },
  {
   "cell_type": "code",
   "execution_count": null,
   "metadata": {
    "ExecuteTime": {
     "end_time": "2020-12-11T15:44:43.060007Z",
     "start_time": "2020-12-11T15:44:43.035563Z"
    }
   },
   "outputs": [],
   "source": [
    "# Complete the missing code below to show the 10 first lines of the dataframe"
   ]
  },
  {
   "cell_type": "markdown",
   "metadata": {},
   "source": [
    "Answer the following questions :\n",
    "\n",
    "1) What is the average of the 'color intesnisty' of the wines in the dataset?\n",
    "\n",
    "2) What are the indices of the wines with the 10 highest 'hue' values?\n",
    "\n",
    "3) What class of wine has the highest average 'alcalinity of ash'?\n",
    "\n"
   ]
  },
  {
   "cell_type": "code",
   "execution_count": null,
   "metadata": {
    "ExecuteTime": {
     "end_time": "2020-12-11T14:21:28.757221Z",
     "start_time": "2020-12-11T14:21:28.748858Z"
    }
   },
   "outputs": [],
   "source": [
    "# Write code to compute the average of the color_intesnisty of the wines in the dataset"
   ]
  },
  {
   "cell_type": "code",
   "execution_count": null,
   "metadata": {
    "ExecuteTime": {
     "end_time": "2020-12-11T14:25:08.271358Z",
     "start_time": "2020-12-11T14:25:08.260612Z"
    },
    "scrolled": true
   },
   "outputs": [],
   "source": [
    "# Write code to determine the indices of the wines with the 10 highest hue values"
   ]
  },
  {
   "cell_type": "code",
   "execution_count": null,
   "metadata": {
    "ExecuteTime": {
     "end_time": "2020-12-11T14:25:09.042428Z",
     "start_time": "2020-12-11T14:25:09.029269Z"
    }
   },
   "outputs": [],
   "source": [
    "# Write code to determine the class of wine has the highest average alcalinity of ash"
   ]
  },
  {
   "cell_type": "markdown",
   "metadata": {},
   "source": [
    "## Classification\n",
    "\n",
    "In this part you'll evaluate the performance of a classification model that predicts the wine's class.\n",
    "\n"
   ]
  },
  {
   "cell_type": "code",
   "execution_count": null,
   "metadata": {
    "ExecuteTime": {
     "end_time": "2020-12-11T16:01:10.107546Z",
     "start_time": "2020-12-11T16:01:09.853907Z"
    }
   },
   "outputs": [],
   "source": [
    "# The code below trains a random forest classifier model to predict the wine's class. Do not edit this cell \n",
    "\n",
    "X = df.drop(columns=[\"CLASS\"]).values\n",
    "y = df.CLASS.values\n",
    "\n",
    "from sklearn.model_selection import train_test_split\n",
    "\n",
    "seed = 42\n",
    "\n",
    "X_train, X_test, y_train, y_test = train_test_split(X, y, random_state = seed)\n",
    "\n",
    "\n",
    "print(\"X_train.shape = \", X_train.shape)\n",
    "print(\"y_train.shape = \", y_train.shape)\n",
    "print(\"X_test.shape = \", X_test.shape)\n",
    "print(\"y_test.shape = \", y_test.shape)\n",
    "\n",
    "from sklearn.ensemble import RandomForestClassifier\n",
    "max_depth = 3\n",
    "n_estimators = 10\n",
    "\n",
    "classifier = RandomForestClassifier(n_estimators=n_estimators, max_depth=max_depth, n_jobs=-1, random_state=seed)\n",
    "\n",
    "classifier.fit(X_train, y_train)\n"
   ]
  },
  {
   "cell_type": "markdown",
   "metadata": {
    "ExecuteTime": {
     "end_time": "2020-12-11T14:32:47.338830Z",
     "start_time": "2020-12-11T14:32:47.332828Z"
    }
   },
   "source": [
    "Write code to answer the following questions :\n",
    "\n",
    "1) What is the accuracy of this model on both training and test sets\n",
    "\n",
    "2) What are the precision, recall and f1-score values on the test set?\n",
    "\n",
    "<b>Hint</b> : use the package sklearn.metrics"
   ]
  },
  {
   "cell_type": "code",
   "execution_count": null,
   "metadata": {
    "ExecuteTime": {
     "end_time": "2020-12-11T16:02:00.514421Z",
     "start_time": "2020-12-11T16:02:00.509194Z"
    }
   },
   "outputs": [],
   "source": [
    "from sklearn.metrics import accuracy_score, precision_score, recall_score, f1_score"
   ]
  },
  {
   "cell_type": "code",
   "execution_count": null,
   "metadata": {
    "ExecuteTime": {
     "end_time": "2020-12-11T16:01:49.045421Z",
     "start_time": "2020-12-11T16:01:48.826797Z"
    }
   },
   "outputs": [],
   "source": [
    "# Write code below to compute the accuracy of this model on both training and test sets"
   ]
  },
  {
   "cell_type": "code",
   "execution_count": null,
   "metadata": {
    "ExecuteTime": {
     "end_time": "2020-12-11T14:40:36.759653Z",
     "start_time": "2020-12-11T14:40:36.755091Z"
    }
   },
   "outputs": [],
   "source": [
    "# Write code below to compute the model's precision, recall and f1 scores on the test set"
   ]
  },
  {
   "cell_type": "code",
   "execution_count": null,
   "metadata": {},
   "outputs": [],
   "source": []
  }
 ],
 "metadata": {
  "kernelspec": {
   "display_name": "Python 3",
   "language": "python",
   "name": "python3"
  },
  "language_info": {
   "codemirror_mode": {
    "name": "ipython",
    "version": 3
   },
   "file_extension": ".py",
   "mimetype": "text/x-python",
   "name": "python",
   "nbconvert_exporter": "python",
   "pygments_lexer": "ipython3",
   "version": "3.7.4"
  },
  "toc": {
   "base_numbering": 1,
   "nav_menu": {},
   "number_sections": true,
   "sideBar": true,
   "skip_h1_title": false,
   "title_cell": "Table of Contents",
   "title_sidebar": "Contents",
   "toc_cell": false,
   "toc_position": {},
   "toc_section_display": true,
   "toc_window_display": true
  }
 },
 "nbformat": 4,
 "nbformat_minor": 4
}
